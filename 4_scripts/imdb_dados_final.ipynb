{
 "cells": [
  {
   "cell_type": "code",
   "execution_count": 1,
   "metadata": {},
   "outputs": [],
   "source": [
    "import pandas as pd\n",
    "from selenium import webdriver\n",
    "from selenium.webdriver.common.by  import By\n",
    "from selenium.common.exceptions import NoSuchElementException"
   ]
  },
  {
   "cell_type": "code",
   "execution_count": 2,
   "metadata": {},
   "outputs": [],
   "source": [
    "navegador = webdriver.Chrome()\n",
    "navegador.get('https://m.imdb.com/chart/toptv/?ref_=nv_tvv_250')"
   ]
  },
  {
   "cell_type": "code",
   "execution_count": 3,
   "metadata": {},
   "outputs": [],
   "source": [
    "xpaths = [\n",
    "    #  0 - Título:\n",
    "    '//*[@id=\"__next\"]/main/div/div[3]/section/div/div[2]/div/ul/li[1]/div[2]/div/div/div[1]/a/h3',\n",
    "    # 1 - Estréia e final:\n",
    "    '//*[@id=\"__next\"]/main/div/div[3]/section/div/div[2]/div/ul/li[1]/div[2]/div/div/div[2]/span[1]',\n",
    "    # 2 - Número de episódios:\n",
    "    '//*[@id=\"__next\"]/main/div/div[3]/section/div/div[2]/div/ul/li[1]/div[2]/div/div/div[2]/span[2]',\n",
    "    # 3 - Classificação indicativa:\n",
    "    '//*[@id=\"__next\"]/main/div/div[3]/section/div/div[2]/div/ul/li[1]/div[2]/div/div/div[2]/span[3]',\n",
    "    # 4 - Notas:\n",
    "    '//*[@id=\"__next\"]/main/div/div[3]/section/div/div[2]/div/ul/li[1]/div[2]/div/div/span/div/span',\n",
    "    # 5 - Número de Avaliações\n",
    "    '//*[@id=\"__next\"]/main/div/div[3]/section/div/div[2]/div/ul/li[1]/div[2]/div/div/span/div/span/span'\n",
    "]"
   ]
  },
  {
   "cell_type": "code",
   "execution_count": 4,
   "metadata": {},
   "outputs": [
    {
     "ename": "NoSuchElementException",
     "evalue": "Message: no such element: Unable to locate element: {\"method\":\"xpath\",\"selector\":\"//*[@id=\"__next\"]/main/div/div[3]/section/div/div[2]/div/ul/li[1]/div[2]/div/div/div[1]/a/h3\"}\n  (Session info: chrome=125.0.6422.77); For documentation on this error, please visit: https://www.selenium.dev/documentation/webdriver/troubleshooting/errors#no-such-element-exception\nStacktrace:\n\tGetHandleVerifier [0x00007FF7A37D1F22+60322]\n\t(No symbol) [0x00007FF7A374CE99]\n\t(No symbol) [0x00007FF7A3607EBA]\n\t(No symbol) [0x00007FF7A3657676]\n\t(No symbol) [0x00007FF7A365773C]\n\t(No symbol) [0x00007FF7A369E967]\n\t(No symbol) [0x00007FF7A367C25F]\n\t(No symbol) [0x00007FF7A369BC80]\n\t(No symbol) [0x00007FF7A367BFC3]\n\t(No symbol) [0x00007FF7A3649617]\n\t(No symbol) [0x00007FF7A364A211]\n\tGetHandleVerifier [0x00007FF7A3AE946D+3301613]\n\tGetHandleVerifier [0x00007FF7A3B33693+3605267]\n\tGetHandleVerifier [0x00007FF7A3B29410+3563664]\n\tGetHandleVerifier [0x00007FF7A38842F6+790390]\n\t(No symbol) [0x00007FF7A37574DF]\n\t(No symbol) [0x00007FF7A37533D4]\n\t(No symbol) [0x00007FF7A3753562]\n\t(No symbol) [0x00007FF7A3742F6F]\n\tBaseThreadInitThunk [0x00007FFF8DA57344+20]\n\tRtlUserThreadStart [0x00007FFF8EF826B1+33]\n",
     "output_type": "error",
     "traceback": [
      "\u001b[1;31m---------------------------------------------------------------------------\u001b[0m",
      "\u001b[1;31mNoSuchElementException\u001b[0m                    Traceback (most recent call last)",
      "Cell \u001b[1;32mIn[4], line 2\u001b[0m\n\u001b[0;32m      1\u001b[0m \u001b[38;5;66;03m# O terceiro indice é o que muda\u001b[39;00m\n\u001b[1;32m----> 2\u001b[0m titulo1 \u001b[38;5;241m=\u001b[39m \u001b[43mnavegador\u001b[49m\u001b[38;5;241;43m.\u001b[39;49m\u001b[43mfind_element\u001b[49m\u001b[43m(\u001b[49m\u001b[43mBy\u001b[49m\u001b[38;5;241;43m.\u001b[39;49m\u001b[43mXPATH\u001b[49m\u001b[43m,\u001b[49m\u001b[38;5;124;43m'\u001b[39;49m\u001b[38;5;124;43m//*[@id=\u001b[39;49m\u001b[38;5;124;43m\"\u001b[39;49m\u001b[38;5;124;43m__next\u001b[39;49m\u001b[38;5;124;43m\"\u001b[39;49m\u001b[38;5;124;43m]/main/div/div[3]/section/div/div[2]/div/ul/li[1]/div[2]/div/div/div[1]/a/h3\u001b[39;49m\u001b[38;5;124;43m'\u001b[39;49m\u001b[43m)\u001b[49m\u001b[38;5;241m.\u001b[39mtext\n\u001b[0;32m      3\u001b[0m titulo2 \u001b[38;5;241m=\u001b[39m navegador\u001b[38;5;241m.\u001b[39mfind_element(By\u001b[38;5;241m.\u001b[39mXPATH,\u001b[38;5;124m'\u001b[39m\u001b[38;5;124m//*[@id=\u001b[39m\u001b[38;5;124m\"\u001b[39m\u001b[38;5;124m__next\u001b[39m\u001b[38;5;124m\"\u001b[39m\u001b[38;5;124m]/main/div/div[3]/section/div/div[2]/div/ul/li[2]/div[2]/div/div/div[1]/a/h3\u001b[39m\u001b[38;5;124m'\u001b[39m)\u001b[38;5;241m.\u001b[39mtext\n\u001b[0;32m      4\u001b[0m titulo3 \u001b[38;5;241m=\u001b[39m navegador\u001b[38;5;241m.\u001b[39mfind_element(By\u001b[38;5;241m.\u001b[39mXPATH,\u001b[38;5;124m'\u001b[39m\u001b[38;5;124m//*[@id=\u001b[39m\u001b[38;5;124m\"\u001b[39m\u001b[38;5;124m__next\u001b[39m\u001b[38;5;124m\"\u001b[39m\u001b[38;5;124m]/main/div/div[3]/section/div/div[2]/div/ul/li[3]/div[2]/div/div/div[1]/a/h3\u001b[39m\u001b[38;5;124m'\u001b[39m)\u001b[38;5;241m.\u001b[39mtext\n",
      "File \u001b[1;32mc:\\Users\\User\\AppData\\Local\\Programs\\Python\\Python312\\Lib\\site-packages\\selenium\\webdriver\\remote\\webdriver.py:741\u001b[0m, in \u001b[0;36mWebDriver.find_element\u001b[1;34m(self, by, value)\u001b[0m\n\u001b[0;32m    738\u001b[0m     by \u001b[38;5;241m=\u001b[39m By\u001b[38;5;241m.\u001b[39mCSS_SELECTOR\n\u001b[0;32m    739\u001b[0m     value \u001b[38;5;241m=\u001b[39m \u001b[38;5;124mf\u001b[39m\u001b[38;5;124m'\u001b[39m\u001b[38;5;124m[name=\u001b[39m\u001b[38;5;124m\"\u001b[39m\u001b[38;5;132;01m{\u001b[39;00mvalue\u001b[38;5;132;01m}\u001b[39;00m\u001b[38;5;124m\"\u001b[39m\u001b[38;5;124m]\u001b[39m\u001b[38;5;124m'\u001b[39m\n\u001b[1;32m--> 741\u001b[0m \u001b[38;5;28;01mreturn\u001b[39;00m \u001b[38;5;28;43mself\u001b[39;49m\u001b[38;5;241;43m.\u001b[39;49m\u001b[43mexecute\u001b[49m\u001b[43m(\u001b[49m\u001b[43mCommand\u001b[49m\u001b[38;5;241;43m.\u001b[39;49m\u001b[43mFIND_ELEMENT\u001b[49m\u001b[43m,\u001b[49m\u001b[43m \u001b[49m\u001b[43m{\u001b[49m\u001b[38;5;124;43m\"\u001b[39;49m\u001b[38;5;124;43musing\u001b[39;49m\u001b[38;5;124;43m\"\u001b[39;49m\u001b[43m:\u001b[49m\u001b[43m \u001b[49m\u001b[43mby\u001b[49m\u001b[43m,\u001b[49m\u001b[43m \u001b[49m\u001b[38;5;124;43m\"\u001b[39;49m\u001b[38;5;124;43mvalue\u001b[39;49m\u001b[38;5;124;43m\"\u001b[39;49m\u001b[43m:\u001b[49m\u001b[43m \u001b[49m\u001b[43mvalue\u001b[49m\u001b[43m}\u001b[49m\u001b[43m)\u001b[49m[\u001b[38;5;124m\"\u001b[39m\u001b[38;5;124mvalue\u001b[39m\u001b[38;5;124m\"\u001b[39m]\n",
      "File \u001b[1;32mc:\\Users\\User\\AppData\\Local\\Programs\\Python\\Python312\\Lib\\site-packages\\selenium\\webdriver\\remote\\webdriver.py:347\u001b[0m, in \u001b[0;36mWebDriver.execute\u001b[1;34m(self, driver_command, params)\u001b[0m\n\u001b[0;32m    345\u001b[0m response \u001b[38;5;241m=\u001b[39m \u001b[38;5;28mself\u001b[39m\u001b[38;5;241m.\u001b[39mcommand_executor\u001b[38;5;241m.\u001b[39mexecute(driver_command, params)\n\u001b[0;32m    346\u001b[0m \u001b[38;5;28;01mif\u001b[39;00m response:\n\u001b[1;32m--> 347\u001b[0m     \u001b[38;5;28;43mself\u001b[39;49m\u001b[38;5;241;43m.\u001b[39;49m\u001b[43merror_handler\u001b[49m\u001b[38;5;241;43m.\u001b[39;49m\u001b[43mcheck_response\u001b[49m\u001b[43m(\u001b[49m\u001b[43mresponse\u001b[49m\u001b[43m)\u001b[49m\n\u001b[0;32m    348\u001b[0m     response[\u001b[38;5;124m\"\u001b[39m\u001b[38;5;124mvalue\u001b[39m\u001b[38;5;124m\"\u001b[39m] \u001b[38;5;241m=\u001b[39m \u001b[38;5;28mself\u001b[39m\u001b[38;5;241m.\u001b[39m_unwrap_value(response\u001b[38;5;241m.\u001b[39mget(\u001b[38;5;124m\"\u001b[39m\u001b[38;5;124mvalue\u001b[39m\u001b[38;5;124m\"\u001b[39m, \u001b[38;5;28;01mNone\u001b[39;00m))\n\u001b[0;32m    349\u001b[0m     \u001b[38;5;28;01mreturn\u001b[39;00m response\n",
      "File \u001b[1;32mc:\\Users\\User\\AppData\\Local\\Programs\\Python\\Python312\\Lib\\site-packages\\selenium\\webdriver\\remote\\errorhandler.py:229\u001b[0m, in \u001b[0;36mErrorHandler.check_response\u001b[1;34m(self, response)\u001b[0m\n\u001b[0;32m    227\u001b[0m         alert_text \u001b[38;5;241m=\u001b[39m value[\u001b[38;5;124m\"\u001b[39m\u001b[38;5;124malert\u001b[39m\u001b[38;5;124m\"\u001b[39m]\u001b[38;5;241m.\u001b[39mget(\u001b[38;5;124m\"\u001b[39m\u001b[38;5;124mtext\u001b[39m\u001b[38;5;124m\"\u001b[39m)\n\u001b[0;32m    228\u001b[0m     \u001b[38;5;28;01mraise\u001b[39;00m exception_class(message, screen, stacktrace, alert_text)  \u001b[38;5;66;03m# type: ignore[call-arg]  # mypy is not smart enough here\u001b[39;00m\n\u001b[1;32m--> 229\u001b[0m \u001b[38;5;28;01mraise\u001b[39;00m exception_class(message, screen, stacktrace)\n",
      "\u001b[1;31mNoSuchElementException\u001b[0m: Message: no such element: Unable to locate element: {\"method\":\"xpath\",\"selector\":\"//*[@id=\"__next\"]/main/div/div[3]/section/div/div[2]/div/ul/li[1]/div[2]/div/div/div[1]/a/h3\"}\n  (Session info: chrome=125.0.6422.77); For documentation on this error, please visit: https://www.selenium.dev/documentation/webdriver/troubleshooting/errors#no-such-element-exception\nStacktrace:\n\tGetHandleVerifier [0x00007FF7A37D1F22+60322]\n\t(No symbol) [0x00007FF7A374CE99]\n\t(No symbol) [0x00007FF7A3607EBA]\n\t(No symbol) [0x00007FF7A3657676]\n\t(No symbol) [0x00007FF7A365773C]\n\t(No symbol) [0x00007FF7A369E967]\n\t(No symbol) [0x00007FF7A367C25F]\n\t(No symbol) [0x00007FF7A369BC80]\n\t(No symbol) [0x00007FF7A367BFC3]\n\t(No symbol) [0x00007FF7A3649617]\n\t(No symbol) [0x00007FF7A364A211]\n\tGetHandleVerifier [0x00007FF7A3AE946D+3301613]\n\tGetHandleVerifier [0x00007FF7A3B33693+3605267]\n\tGetHandleVerifier [0x00007FF7A3B29410+3563664]\n\tGetHandleVerifier [0x00007FF7A38842F6+790390]\n\t(No symbol) [0x00007FF7A37574DF]\n\t(No symbol) [0x00007FF7A37533D4]\n\t(No symbol) [0x00007FF7A3753562]\n\t(No symbol) [0x00007FF7A3742F6F]\n\tBaseThreadInitThunk [0x00007FFF8DA57344+20]\n\tRtlUserThreadStart [0x00007FFF8EF826B1+33]\n"
     ]
    }
   ],
   "source": [
    "# O terceiro indice é o que muda\n",
    "titulo1 = navegador.find_element(By.XPATH,'//*[@id=\"__next\"]/main/div/div[3]/section/div/div[2]/div/ul/li[1]/div[2]/div/div/div[1]/a/h3').text\n",
    "titulo2 = navegador.find_element(By.XPATH,'//*[@id=\"__next\"]/main/div/div[3]/section/div/div[2]/div/ul/li[2]/div[2]/div/div/div[1]/a/h3').text\n",
    "titulo3 = navegador.find_element(By.XPATH,'//*[@id=\"__next\"]/main/div/div[3]/section/div/div[2]/div/ul/li[3]/div[2]/div/div/div[1]/a/h3').text\n",
    "print(titulo1)\n",
    "print(titulo2)\n",
    "print(titulo3)"
   ]
  },
  {
   "cell_type": "code",
   "execution_count": null,
   "metadata": {},
   "outputs": [],
   "source": [
    "def separa_ano(titulo, separador):\n",
    "    ano = []\n",
    "    duracao = titulo.split(separador)\n",
    "    ano.append(duracao[0])\n",
    "    if len(duracao) < 2:\n",
    "        ano.append(duracao[0:4])\n",
    "        return ano\n",
    "    else:\n",
    "        return duracao[0:4]"
   ]
  },
  {
   "cell_type": "code",
   "execution_count": null,
   "metadata": {},
   "outputs": [],
   "source": [
    "def separa_nome(titulo, separador):\n",
    "    ano = []\n",
    "    duracao = titulo.split(separador)\n",
    "    ano.append(duracao)\n",
    "    if len(duracao) < 2:\n",
    "        ano.append(duracao)\n",
    "        return ano\n",
    "    else:\n",
    "        return duracao"
   ]
  },
  {
   "cell_type": "code",
   "execution_count": null,
   "metadata": {},
   "outputs": [],
   "source": [
    "def valor_limpo(xpath, separador, index):\n",
    "    return separa_nome(navegador.find_element(By.XPATH,xpath).text,separador)[index]"
   ]
  },
  {
   "cell_type": "code",
   "execution_count": null,
   "metadata": {},
   "outputs": [],
   "source": [
    "def valor_limpo_ano(xpath, separador, index):\n",
    "    return separa_ano(navegador.find_element(By.XPATH,xpath).text,separador)[index]"
   ]
  },
  {
   "cell_type": "code",
   "execution_count": null,
   "metadata": {},
   "outputs": [
    {
     "data": {
      "text/plain": [
       "['2006', ['2006']]"
      ]
     },
     "execution_count": 9,
     "metadata": {},
     "output_type": "execute_result"
    }
   ],
   "source": [
    "periodo = navegador.find_element(By.XPATH,'//*[@id=\"__next\"]/main/div/div[3]/section/div/div[2]/div/ul/li[3]/div[2]/div/div/div[2]/span[1]').text\n",
    "separa_ano(periodo,'–')"
   ]
  },
  {
   "cell_type": "code",
   "execution_count": null,
   "metadata": {},
   "outputs": [],
   "source": [
    "def nota_filme(xpath):\n",
    "    nota = navegador.find_element(By.XPATH,xpath).text\n",
    "    return nota[0:3]"
   ]
  },
  {
   "cell_type": "code",
   "execution_count": null,
   "metadata": {},
   "outputs": [],
   "source": [
    "def num_ava(xpath):   \n",
    "    n_avaliacoes = navegador.find_element(By.XPATH,xpath).text\n",
    "    return n_avaliacoes.strip()[1:-1]"
   ]
  },
  {
   "cell_type": "code",
   "execution_count": null,
   "metadata": {},
   "outputs": [],
   "source": [
    "def coleta_classificacao(xpath):\n",
    "    try:\n",
    "        classif = navegador.find_element(By.XPATH,xpath).text\n",
    "        return classif\n",
    "    except NoSuchElementException:\n",
    "        return None"
   ]
  },
  {
   "cell_type": "code",
   "execution_count": null,
   "metadata": {},
   "outputs": [
    {
     "data": {
      "text/plain": [
       "'62'"
      ]
     },
     "execution_count": 13,
     "metadata": {},
     "output_type": "execute_result"
    }
   ],
   "source": [
    "numero_eps = valor_limpo('//*[@id=\"__next\"]/main/div/div[3]/section/div/div[2]/div/ul/li[1]/div[2]/div/div/div[2]/span[2]',' ',0)\n",
    "numero_eps"
   ]
  },
  {
   "cell_type": "code",
   "execution_count": null,
   "metadata": {},
   "outputs": [
    {
     "data": {
      "text/plain": [
       "'2008'"
      ]
     },
     "execution_count": 14,
     "metadata": {},
     "output_type": "execute_result"
    }
   ],
   "source": [
    "estreia = valor_limpo('//*[@id=\"__next\"]/main/div/div[3]/section/div/div[2]/div/ul/li[1]/div[2]/div/div/div[2]/span[1]','–',0)\n",
    "estreia"
   ]
  },
  {
   "cell_type": "code",
   "execution_count": null,
   "metadata": {},
   "outputs": [
    {
     "data": {
      "text/plain": [
       "'2008'"
      ]
     },
     "execution_count": 15,
     "metadata": {},
     "output_type": "execute_result"
    }
   ],
   "source": [
    "estreia = separa_nome(navegador.find_element(By.XPATH,'//*[@id=\"__next\"]/main/div/div[3]/section/div/div[2]/div/ul/li[1]/div[2]/div/div/div[2]/span[1]').text,'–')[0]\n",
    "estreia"
   ]
  },
  {
   "cell_type": "code",
   "execution_count": null,
   "metadata": {},
   "outputs": [
    {
     "data": {
      "text/plain": [
       "['2006']"
      ]
     },
     "execution_count": 16,
     "metadata": {},
     "output_type": "execute_result"
    }
   ],
   "source": [
    "final = separa_nome(periodo,'–')[1]\n",
    "final"
   ]
  },
  {
   "cell_type": "code",
   "execution_count": null,
   "metadata": {},
   "outputs": [
    {
     "data": {
      "text/plain": [
       "'2013'"
      ]
     },
     "execution_count": 17,
     "metadata": {},
     "output_type": "execute_result"
    }
   ],
   "source": [
    "final = valor_limpo('//*[@id=\"__next\"]/main/div/div[3]/section/div/div[2]/div/ul/li[1]/div[2]/div/div/div[2]/span[1]','–',1)\n",
    "final"
   ]
  },
  {
   "cell_type": "code",
   "execution_count": null,
   "metadata": {},
   "outputs": [
    {
     "data": {
      "text/plain": [
       "'2013'"
      ]
     },
     "execution_count": 18,
     "metadata": {},
     "output_type": "execute_result"
    }
   ],
   "source": [
    "final = separa_nome(navegador.find_element(By.XPATH,'//*[@id=\"__next\"]/main/div/div[3]/section/div/div[2]/div/ul/li[1]/div[2]/div/div/div[2]/span[1]').text,'–')[1]\n",
    "final"
   ]
  },
  {
   "cell_type": "code",
   "execution_count": null,
   "metadata": {},
   "outputs": [],
   "source": [
    "titulos = []\n",
    "estreias = []\n",
    "finais = []\n",
    "numeros_eps = []\n",
    "classificacoes = []\n",
    "notas = []\n",
    "num_avaliacoes = []\n",
    "for i in range(1,101):\n",
    "    titulos.append(valor_limpo('//*[@id=\"__next\"]/main/div/div[3]/section/div/div[2]/div/ul/li['+str(i)+']/div[2]/div/div/div[1]/a/h3','. ', 1))\n",
    "    estreias.append(valor_limpo_ano('//*[@id=\"__next\"]/main/div/div[3]/section/div/div[2]/div/ul/li['+str(i)+']/div[2]/div/div/div[2]/span[1]','–',0))\n",
    "    finais.append(valor_limpo_ano('//*[@id=\"__next\"]/main/div/div[3]/section/div/div[2]/div/ul/li['+str(i)+']/div[2]/div/div/div[2]/span[1]','–',1))\n",
    "    numeros_eps.append(valor_limpo('//*[@id=\"__next\"]/main/div/div[3]/section/div/div[2]/div/ul/li['+str(i)+']/div[2]/div/div/div[2]/span[2]',' ',0))\n",
    "    classificacoes.append(coleta_classificacao('//*[@id=\"__next\"]/main/div/div[3]/section/div/div[2]/div/ul/li['+str(i)+']/div[2]/div/div/div[2]/span[3]'))\n",
    "    notas.append(nota_filme('//*[@id=\"__next\"]/main/div/div[3]/section/div/div[2]/div/ul/li['+str(i)+']/div[2]/div/div/span/div/span'))\n",
    "    num_avaliacoes.append(num_ava('//*[@id=\"__next\"]/main/div/div[3]/section/div/div[2]/div/ul/li['+str(i)+']/div[2]/div/div/span/div/span/span'))\n"
   ]
  },
  {
   "cell_type": "code",
   "execution_count": null,
   "metadata": {},
   "outputs": [],
   "source": [
    "tabela = []\n",
    "tabela.append(titulos)\n",
    "tabela.append(estreias)\n",
    "tabela.append(finais)\n",
    "tabela.append(numeros_eps)\n",
    "tabela.append(classificacoes)\n",
    "tabela.append(notas)\n",
    "tabela.append(num_avaliacoes)"
   ]
  },
  {
   "cell_type": "code",
   "execution_count": null,
   "metadata": {},
   "outputs": [
    {
     "data": {
      "text/html": [
       "<div>\n",
       "<style scoped>\n",
       "    .dataframe tbody tr th:only-of-type {\n",
       "        vertical-align: middle;\n",
       "    }\n",
       "\n",
       "    .dataframe tbody tr th {\n",
       "        vertical-align: top;\n",
       "    }\n",
       "\n",
       "    .dataframe thead th {\n",
       "        text-align: right;\n",
       "    }\n",
       "</style>\n",
       "<table border=\"1\" class=\"dataframe\">\n",
       "  <thead>\n",
       "    <tr style=\"text-align: right;\">\n",
       "      <th></th>\n",
       "      <th>Título</th>\n",
       "      <th>Estréia</th>\n",
       "      <th>Final</th>\n",
       "      <th>Nº episódios</th>\n",
       "      <th>Classificação</th>\n",
       "      <th>Nota</th>\n",
       "      <th>Nº avaliações</th>\n",
       "    </tr>\n",
       "  </thead>\n",
       "  <tbody>\n",
       "    <tr>\n",
       "      <th>0</th>\n",
       "      <td>Breaking Bad</td>\n",
       "      <td>2008</td>\n",
       "      <td>2013</td>\n",
       "      <td>62</td>\n",
       "      <td>16</td>\n",
       "      <td>9,5</td>\n",
       "      <td>2,1 mi</td>\n",
       "    </tr>\n",
       "    <tr>\n",
       "      <th>1</th>\n",
       "      <td>Planeta Terra II</td>\n",
       "      <td>2016</td>\n",
       "      <td>[2016]</td>\n",
       "      <td>6</td>\n",
       "      <td>10</td>\n",
       "      <td>9,5</td>\n",
       "      <td>159 mil</td>\n",
       "    </tr>\n",
       "    <tr>\n",
       "      <th>2</th>\n",
       "      <td>Planeta Terra</td>\n",
       "      <td>2006</td>\n",
       "      <td>[2006]</td>\n",
       "      <td>11</td>\n",
       "      <td>Livre</td>\n",
       "      <td>9,4</td>\n",
       "      <td>221 mil</td>\n",
       "    </tr>\n",
       "    <tr>\n",
       "      <th>3</th>\n",
       "      <td>Irmãos de Guerra</td>\n",
       "      <td>2001</td>\n",
       "      <td>[2001]</td>\n",
       "      <td>10</td>\n",
       "      <td>14</td>\n",
       "      <td>9,4</td>\n",
       "      <td>529 mil</td>\n",
       "    </tr>\n",
       "    <tr>\n",
       "      <th>4</th>\n",
       "      <td>Chernobyl</td>\n",
       "      <td>2019</td>\n",
       "      <td>[2019]</td>\n",
       "      <td>5</td>\n",
       "      <td>16</td>\n",
       "      <td>9,3</td>\n",
       "      <td>870 mil</td>\n",
       "    </tr>\n",
       "  </tbody>\n",
       "</table>\n",
       "</div>"
      ],
      "text/plain": [
       "             Título Estréia   Final Nº episódios Classificação Nota  \\\n",
       "0      Breaking Bad    2008    2013           62            16  9,5   \n",
       "1  Planeta Terra II    2016  [2016]            6            10  9,5   \n",
       "2     Planeta Terra    2006  [2006]           11         Livre  9,4   \n",
       "3  Irmãos de Guerra    2001  [2001]           10            14  9,4   \n",
       "4         Chernobyl    2019  [2019]            5            16  9,3   \n",
       "\n",
       "  Nº avaliações  \n",
       "0        2,1 mi  \n",
       "1       159 mil  \n",
       "2       221 mil  \n",
       "3       529 mil  \n",
       "4       870 mil  "
      ]
     },
     "execution_count": 21,
     "metadata": {},
     "output_type": "execute_result"
    }
   ],
   "source": [
    "df = pd.DataFrame(tabela).T\n",
    "df = df.rename(columns={\n",
    "    0:'Título',\n",
    "    1:'Estréia',\n",
    "    2:'Final',\n",
    "    3:'Nº episódios',\n",
    "    4:'Classificação',\n",
    "    5:'Nota',\n",
    "    6:'Nº avaliações'\n",
    "}\n",
    ")\n",
    "df.head()"
   ]
  },
  {
   "cell_type": "code",
   "execution_count": null,
   "metadata": {},
   "outputs": [],
   "source": [
    "def converte_lista(valor):\n",
    "    if isinstance(valor,list):\n",
    "        return valor[0] if len(valor) > 0 else None\n",
    "    return valor"
   ]
  },
  {
   "cell_type": "code",
   "execution_count": null,
   "metadata": {},
   "outputs": [
    {
     "data": {
      "text/plain": [
       "0     2013\n",
       "1     2016\n",
       "2     2006\n",
       "3     2001\n",
       "4     2019\n",
       "      ... \n",
       "95    2023\n",
       "96    2008\n",
       "97    2009\n",
       "98    2015\n",
       "99    1998\n",
       "Name: Final, Length: 100, dtype: object"
      ]
     },
     "execution_count": 31,
     "metadata": {},
     "output_type": "execute_result"
    }
   ],
   "source": [
    "df['Estréia'] = df['Estréia'].apply(converte_lista)\n",
    "df['Final'] = df['Final'].apply(converte_lista)\n",
    "df['Final']"
   ]
  },
  {
   "cell_type": "code",
   "execution_count": null,
   "metadata": {},
   "outputs": [
    {
     "name": "stdout",
     "output_type": "stream",
     "text": [
      "Note: you may need to restart the kernel to use updated packages.\n"
     ]
    },
    {
     "name": "stderr",
     "output_type": "stream",
     "text": [
      "ERROR: Invalid requirement: '=='\n"
     ]
    }
   ],
   "source": [
    "pip install sqlalchemy == 2.0.19\n"
   ]
  },
  {
   "cell_type": "code",
   "execution_count": null,
   "metadata": {},
   "outputs": [
    {
     "name": "stdout",
     "output_type": "stream",
     "text": [
      "Requirement already satisfied: pandas in c:\\users\\user\\appdata\\local\\programs\\python\\python312\\lib\\site-packages (2.2.2)\n",
      "Requirement already satisfied: sqlalchemy in c:\\users\\user\\appdata\\local\\programs\\python\\python312\\lib\\site-packages (2.0.30)\n",
      "Requirement already satisfied: numpy>=1.26.0 in c:\\users\\user\\appdata\\local\\programs\\python\\python312\\lib\\site-packages (from pandas) (1.26.4)\n",
      "Requirement already satisfied: python-dateutil>=2.8.2 in c:\\users\\user\\appdata\\roaming\\python\\python312\\site-packages (from pandas) (2.9.0.post0)\n",
      "Requirement already satisfied: pytz>=2020.1 in c:\\users\\user\\appdata\\local\\programs\\python\\python312\\lib\\site-packages (from pandas) (2024.1)\n",
      "Requirement already satisfied: tzdata>=2022.7 in c:\\users\\user\\appdata\\local\\programs\\python\\python312\\lib\\site-packages (from pandas) (2024.1)\n",
      "Requirement already satisfied: typing-extensions>=4.6.0 in c:\\users\\user\\appdata\\local\\programs\\python\\python312\\lib\\site-packages (from sqlalchemy) (4.10.0)\n",
      "Requirement already satisfied: greenlet!=0.4.17 in c:\\users\\user\\appdata\\local\\programs\\python\\python312\\lib\\site-packages (from sqlalchemy) (3.0.3)\n",
      "Requirement already satisfied: six>=1.5 in c:\\users\\user\\appdata\\roaming\\python\\python312\\site-packages (from python-dateutil>=2.8.2->pandas) (1.16.0)\n",
      "Note: you may need to restart the kernel to use updated packages.\n"
     ]
    }
   ],
   "source": [
    "pip install --upgrade pandas sqlalchemy"
   ]
  },
  {
   "cell_type": "code",
   "execution_count": null,
   "metadata": {},
   "outputs": [
    {
     "name": "stdout",
     "output_type": "stream",
     "text": [
      "2024-05-21 16:31:36,952 INFO sqlalchemy.engine.Engine BEGIN (implicit)\n",
      "2024-05-21 16:31:36,954 INFO sqlalchemy.engine.Engine PRAGMA main.table_info(\"series.db\")\n",
      "2024-05-21 16:31:36,955 INFO sqlalchemy.engine.Engine [raw sql] ()\n",
      "2024-05-21 16:31:36,957 INFO sqlalchemy.engine.Engine PRAGMA main.table_info(\"series.db\")\n",
      "2024-05-21 16:31:36,958 INFO sqlalchemy.engine.Engine [raw sql] ()\n",
      "2024-05-21 16:31:36,959 INFO sqlalchemy.engine.Engine SELECT name FROM sqlite_master WHERE type='table' AND name NOT LIKE 'sqlite~_%' ESCAPE '~' ORDER BY name\n",
      "2024-05-21 16:31:36,960 INFO sqlalchemy.engine.Engine [raw sql] ()\n",
      "2024-05-21 16:31:36,962 INFO sqlalchemy.engine.Engine SELECT name FROM sqlite_master WHERE type='view' AND name NOT LIKE 'sqlite~_%' ESCAPE '~' ORDER BY name\n",
      "2024-05-21 16:31:36,962 INFO sqlalchemy.engine.Engine [raw sql] ()\n",
      "2024-05-21 16:31:36,964 INFO sqlalchemy.engine.Engine PRAGMA main.table_xinfo(\"series.db\")\n",
      "2024-05-21 16:31:36,964 INFO sqlalchemy.engine.Engine [raw sql] ()\n",
      "2024-05-21 16:31:36,966 INFO sqlalchemy.engine.Engine SELECT sql FROM  (SELECT * FROM sqlite_master UNION ALL   SELECT * FROM sqlite_temp_master) WHERE name = ? AND type in ('table', 'view')\n",
      "2024-05-21 16:31:36,966 INFO sqlalchemy.engine.Engine [raw sql] ('series.db',)\n",
      "2024-05-21 16:31:36,968 INFO sqlalchemy.engine.Engine PRAGMA main.foreign_key_list(\"series.db\")\n",
      "2024-05-21 16:31:36,969 INFO sqlalchemy.engine.Engine [raw sql] ()\n",
      "2024-05-21 16:31:36,971 INFO sqlalchemy.engine.Engine PRAGMA temp.foreign_key_list(\"series.db\")\n",
      "2024-05-21 16:31:36,972 INFO sqlalchemy.engine.Engine [raw sql] ()\n",
      "2024-05-21 16:31:36,974 INFO sqlalchemy.engine.Engine SELECT sql FROM  (SELECT * FROM sqlite_master UNION ALL   SELECT * FROM sqlite_temp_master) WHERE name = ? AND type in ('table', 'view')\n",
      "2024-05-21 16:31:36,975 INFO sqlalchemy.engine.Engine [raw sql] ('series.db',)\n",
      "2024-05-21 16:31:36,976 INFO sqlalchemy.engine.Engine PRAGMA main.index_list(\"series.db\")\n",
      "2024-05-21 16:31:36,977 INFO sqlalchemy.engine.Engine [raw sql] ()\n",
      "2024-05-21 16:31:36,979 INFO sqlalchemy.engine.Engine PRAGMA temp.index_list(\"series.db\")\n",
      "2024-05-21 16:31:36,979 INFO sqlalchemy.engine.Engine [raw sql] ()\n",
      "2024-05-21 16:31:36,980 INFO sqlalchemy.engine.Engine PRAGMA main.table_info(\"series.db\")\n",
      "2024-05-21 16:31:36,982 INFO sqlalchemy.engine.Engine [raw sql] ()\n",
      "2024-05-21 16:31:36,983 INFO sqlalchemy.engine.Engine PRAGMA main.index_list(\"series.db\")\n",
      "2024-05-21 16:31:36,985 INFO sqlalchemy.engine.Engine [raw sql] ()\n",
      "2024-05-21 16:31:36,986 INFO sqlalchemy.engine.Engine PRAGMA temp.index_list(\"series.db\")\n",
      "2024-05-21 16:31:36,987 INFO sqlalchemy.engine.Engine [raw sql] ()\n",
      "2024-05-21 16:31:36,988 INFO sqlalchemy.engine.Engine PRAGMA main.table_info(\"series.db\")\n",
      "2024-05-21 16:31:36,990 INFO sqlalchemy.engine.Engine [raw sql] ()\n",
      "2024-05-21 16:31:36,991 INFO sqlalchemy.engine.Engine SELECT sql FROM  (SELECT * FROM sqlite_master UNION ALL   SELECT * FROM sqlite_temp_master) WHERE name = ? AND type in ('table', 'view')\n",
      "2024-05-21 16:31:36,992 INFO sqlalchemy.engine.Engine [raw sql] ('series.db',)\n",
      "2024-05-21 16:31:36,994 INFO sqlalchemy.engine.Engine \n",
      "DROP TABLE \"series.db\"\n",
      "2024-05-21 16:31:36,995 INFO sqlalchemy.engine.Engine [no key 0.00102s] ()\n",
      "2024-05-21 16:31:37,002 INFO sqlalchemy.engine.Engine \n",
      "CREATE TABLE \"series.db\" (\n",
      "\t\"Título\" TEXT, \n",
      "\t\"Estréia\" TEXT, \n",
      "\t\"Final\" TEXT, \n",
      "\t\"Nº episódios\" TEXT, \n",
      "\t\"Classificação\" TEXT, \n",
      "\t\"Nota\" TEXT, \n",
      "\t\"Nº avaliações\" TEXT\n",
      ")\n",
      "\n",
      "\n",
      "2024-05-21 16:31:37,003 INFO sqlalchemy.engine.Engine [no key 0.00063s] ()\n",
      "2024-05-21 16:31:37,010 INFO sqlalchemy.engine.Engine INSERT INTO \"series.db\" (\"Título\", \"Estréia\", \"Final\", \"Nº episódios\", \"Classificação\", \"Nota\", \"Nº avaliações\") VALUES (?, ?, ?, ?, ?, ?, ?)\n",
      "2024-05-21 16:31:37,011 INFO sqlalchemy.engine.Engine [generated in 0.00133s] [('Breaking Bad', '2008', '2013', '62', '16', '9,5', '2,1 mi'), ('Planeta Terra II', '2016', '2016', '6', '10', '9,5', '159 mil'), ('Planeta Terra', '2006', '2006', '11', 'Livre', '9,4', '221 mil'), ('Irmãos de Guerra', '2001', '2001', '10', '14', '9,4', '529 mil'), ('Chernobyl', '2019', '2019', '5', '16', '9,3', '870 mil'), ('A Escuta', '2002', '2008', '60', '16', '9,3', '379 mil'), ('Avatar: A Lenda de Aang', '2005', '2008', '62', 'Livre', '9,3', '376 mil'), ('Planeta Azul II', '2017', '2017', '7', 'Livre', '9,3', '47 mil')  ... displaying 10 of 100 total bound parameter sets ...  ('Downton Abbey', '2010', '2015', '52', '12', '8,7', '226 mil'), ('Berserk', '1997', '1998', '25', '16+', '8,7', '54 mil')]\n",
      "2024-05-21 16:31:37,013 INFO sqlalchemy.engine.Engine COMMIT\n"
     ]
    },
    {
     "data": {
      "text/plain": [
       "100"
      ]
     },
     "execution_count": 34,
     "metadata": {},
     "output_type": "execute_result"
    }
   ],
   "source": [
    "from sqlalchemy import create_engine\n",
    "engine = create_engine('sqlite:///bancoSeries.db', echo=True)\n",
    "df.to_sql('series.db', con=engine, if_exists='replace', index=False)\n"
   ]
  },
  {
   "cell_type": "code",
   "execution_count": null,
   "metadata": {},
   "outputs": [],
   "source": [
    "import pandas as pd\n",
    "import sqlite3"
   ]
  },
  {
   "cell_type": "code",
   "execution_count": null,
   "metadata": {},
   "outputs": [],
   "source": [
    "conn = sqlite3.connect('C:\\\\Users\\\\User\\\\Documents\\\\Web Data\\\\AP2\\\\3__bases_de_upload\\\\bancoSeries.db')"
   ]
  },
  {
   "cell_type": "code",
   "execution_count": null,
   "metadata": {},
   "outputs": [],
   "source": [
    "cursor = conn.cursor()"
   ]
  },
  {
   "cell_type": "code",
   "execution_count": null,
   "metadata": {},
   "outputs": [
    {
     "data": {
      "text/plain": [
       "<sqlite3.Cursor at 0x18d2f775640>"
      ]
     },
     "execution_count": 29,
     "metadata": {},
     "output_type": "execute_result"
    }
   ],
   "source": [
    "rename_table = \"ALTER TABLE 'series.db' RENAME TO seriesNotas\"\n",
    "cursor.execute(rename_table)"
   ]
  },
  {
   "cell_type": "code",
   "execution_count": null,
   "metadata": {},
   "outputs": [],
   "source": [
    "query = \"SELECT * FROM seriesNotas\""
   ]
  },
  {
   "cell_type": "code",
   "execution_count": null,
   "metadata": {},
   "outputs": [
    {
     "data": {
      "text/plain": [
       "Título           object\n",
       "Estréia          object\n",
       "Final            object\n",
       "Nº episódios     object\n",
       "Classificação    object\n",
       "Nota             object\n",
       "Nº avaliações    object\n",
       "dtype: object"
      ]
     },
     "execution_count": 36,
     "metadata": {},
     "output_type": "execute_result"
    }
   ],
   "source": [
    "df2 = pd.read_sql(query,conn)\n",
    "df2.dtypes"
   ]
  },
  {
   "cell_type": "code",
   "execution_count": null,
   "metadata": {},
   "outputs": [],
   "source": []
  },
  {
   "cell_type": "code",
   "execution_count": null,
   "metadata": {},
   "outputs": [],
   "source": []
  }
 ],
 "metadata": {
  "kernelspec": {
   "display_name": "Python 3",
   "language": "python",
   "name": "python3"
  },
  "language_info": {
   "codemirror_mode": {
    "name": "ipython",
    "version": 3
   },
   "file_extension": ".py",
   "mimetype": "text/x-python",
   "name": "python",
   "nbconvert_exporter": "python",
   "pygments_lexer": "ipython3",
   "version": "3.12.2"
  }
 },
 "nbformat": 4,
 "nbformat_minor": 2
}
